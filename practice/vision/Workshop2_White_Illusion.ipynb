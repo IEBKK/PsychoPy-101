{
 "cells": [
  {
   "cell_type": "markdown",
   "metadata": {},
   "source": [
    "### Py-Emotion:Persona\n",
    "### PsychoPy 101 Workshop\n",
    "### 2018. 7. 31.\n",
    "### Yoon Kyung Lee"
   ]
  },
  {
   "cell_type": "markdown",
   "metadata": {},
   "source": [
    "각 오브젝트와 함수에 대한 자세한 내용은 발표자료(ppt)참고. \n"
   ]
  },
  {
   "cell_type": "markdown",
   "metadata": {},
   "source": [
    "1. 전체 코드 "
   ]
  },
  {
   "cell_type": "code",
   "execution_count": 3,
   "metadata": {},
   "outputs": [
    {
     "ename": "KeyError",
     "evalue": "u'\\u3141'",
     "output_type": "error",
     "traceback": [
      "\u001b[0;31m---------------------------------------------------------------------------\u001b[0m",
      "\u001b[0;31mKeyError\u001b[0m                                  Traceback (most recent call last)",
      "\u001b[0;32m_ctypes/callbacks.c\u001b[0m in \u001b[0;36m'calling callback function'\u001b[0;34m()\u001b[0m\n",
      "\u001b[0;32m/anaconda3/envs/PsychoPy/lib/python2.7/site-packages/pyglet/libs/darwin/cocoapy/runtime.pyc\u001b[0m in \u001b[0;36mobjc_method\u001b[0;34m(objc_self, objc_cmd, *args)\u001b[0m\n\u001b[1;32m   1119\u001b[0m                 \u001b[0mpy_self\u001b[0m\u001b[0;34m.\u001b[0m\u001b[0mobjc_cmd\u001b[0m \u001b[0;34m=\u001b[0m \u001b[0mobjc_cmd\u001b[0m\u001b[0;34m\u001b[0m\u001b[0m\n\u001b[1;32m   1120\u001b[0m                 \u001b[0margs\u001b[0m \u001b[0;34m=\u001b[0m \u001b[0mconvert_method_arguments\u001b[0m\u001b[0;34m(\u001b[0m\u001b[0mencoding\u001b[0m\u001b[0;34m,\u001b[0m \u001b[0margs\u001b[0m\u001b[0;34m)\u001b[0m\u001b[0;34m\u001b[0m\u001b[0m\n\u001b[0;32m-> 1121\u001b[0;31m                 \u001b[0mresult\u001b[0m \u001b[0;34m=\u001b[0m \u001b[0mf\u001b[0m\u001b[0;34m(\u001b[0m\u001b[0mpy_self\u001b[0m\u001b[0;34m,\u001b[0m \u001b[0;34m*\u001b[0m\u001b[0margs\u001b[0m\u001b[0;34m)\u001b[0m\u001b[0;34m\u001b[0m\u001b[0m\n\u001b[0m\u001b[1;32m   1122\u001b[0m                 \u001b[0;32mif\u001b[0m \u001b[0misinstance\u001b[0m\u001b[0;34m(\u001b[0m\u001b[0mresult\u001b[0m\u001b[0;34m,\u001b[0m \u001b[0mObjCClass\u001b[0m\u001b[0;34m)\u001b[0m\u001b[0;34m:\u001b[0m\u001b[0;34m\u001b[0m\u001b[0m\n\u001b[1;32m   1123\u001b[0m                     \u001b[0mresult\u001b[0m \u001b[0;34m=\u001b[0m \u001b[0mresult\u001b[0m\u001b[0;34m.\u001b[0m\u001b[0mptr\u001b[0m\u001b[0;34m.\u001b[0m\u001b[0mvalue\u001b[0m\u001b[0;34m\u001b[0m\u001b[0m\n",
      "\u001b[0;32m/anaconda3/envs/PsychoPy/lib/python2.7/site-packages/pyglet/window/cocoa/pyglet_view.pyc\u001b[0m in \u001b[0;36mpygletKeyDown_\u001b[0;34m(self, nsevent)\u001b[0m\n\u001b[1;32m    156\u001b[0m     \u001b[0;34m@\u001b[0m\u001b[0mPygletView\u001b[0m\u001b[0;34m.\u001b[0m\u001b[0mmethod\u001b[0m\u001b[0;34m(\u001b[0m\u001b[0;34m'v@'\u001b[0m\u001b[0;34m)\u001b[0m\u001b[0;34m\u001b[0m\u001b[0m\n\u001b[1;32m    157\u001b[0m     \u001b[0;32mdef\u001b[0m \u001b[0mpygletKeyDown_\u001b[0m\u001b[0;34m(\u001b[0m\u001b[0mself\u001b[0m\u001b[0;34m,\u001b[0m \u001b[0mnsevent\u001b[0m\u001b[0;34m)\u001b[0m\u001b[0;34m:\u001b[0m\u001b[0;34m\u001b[0m\u001b[0m\n\u001b[0;32m--> 158\u001b[0;31m         \u001b[0msymbol\u001b[0m \u001b[0;34m=\u001b[0m \u001b[0mgetSymbol\u001b[0m\u001b[0;34m(\u001b[0m\u001b[0mnsevent\u001b[0m\u001b[0;34m)\u001b[0m\u001b[0;34m\u001b[0m\u001b[0m\n\u001b[0m\u001b[1;32m    159\u001b[0m         \u001b[0mmodifiers\u001b[0m \u001b[0;34m=\u001b[0m \u001b[0mgetModifiers\u001b[0m\u001b[0;34m(\u001b[0m\u001b[0mnsevent\u001b[0m\u001b[0;34m)\u001b[0m\u001b[0;34m\u001b[0m\u001b[0m\n\u001b[1;32m    160\u001b[0m         \u001b[0mself\u001b[0m\u001b[0;34m.\u001b[0m\u001b[0m_window\u001b[0m\u001b[0;34m.\u001b[0m\u001b[0mdispatch_event\u001b[0m\u001b[0;34m(\u001b[0m\u001b[0;34m'on_key_press'\u001b[0m\u001b[0;34m,\u001b[0m \u001b[0msymbol\u001b[0m\u001b[0;34m,\u001b[0m \u001b[0mmodifiers\u001b[0m\u001b[0;34m)\u001b[0m\u001b[0;34m\u001b[0m\u001b[0m\n",
      "\u001b[0;32m/anaconda3/envs/PsychoPy/lib/python2.7/site-packages/pyglet/window/cocoa/pyglet_view.pyc\u001b[0m in \u001b[0;36mgetSymbol\u001b[0;34m(nsevent)\u001b[0m\n\u001b[1;32m     50\u001b[0m     \u001b[0mchars\u001b[0m \u001b[0;34m=\u001b[0m \u001b[0mcfstring_to_string\u001b[0m\u001b[0;34m(\u001b[0m\u001b[0mnsevent\u001b[0m\u001b[0;34m.\u001b[0m\u001b[0mcharactersIgnoringModifiers\u001b[0m\u001b[0;34m(\u001b[0m\u001b[0;34m)\u001b[0m\u001b[0;34m)\u001b[0m\u001b[0;34m\u001b[0m\u001b[0m\n\u001b[1;32m     51\u001b[0m     \u001b[0;32mif\u001b[0m \u001b[0mchars\u001b[0m\u001b[0;34m:\u001b[0m\u001b[0;34m\u001b[0m\u001b[0m\n\u001b[0;32m---> 52\u001b[0;31m         \u001b[0;32mreturn\u001b[0m \u001b[0mcharmap\u001b[0m\u001b[0;34m[\u001b[0m\u001b[0mchars\u001b[0m\u001b[0;34m[\u001b[0m\u001b[0;36m0\u001b[0m\u001b[0;34m]\u001b[0m\u001b[0;34m.\u001b[0m\u001b[0mupper\u001b[0m\u001b[0;34m(\u001b[0m\u001b[0;34m)\u001b[0m\u001b[0;34m]\u001b[0m\u001b[0;34m\u001b[0m\u001b[0m\n\u001b[0m\u001b[1;32m     53\u001b[0m \u001b[0;34m\u001b[0m\u001b[0m\n\u001b[1;32m     54\u001b[0m     \u001b[0;32mreturn\u001b[0m \u001b[0mNone\u001b[0m\u001b[0;34m\u001b[0m\u001b[0m\n",
      "\u001b[0;31mKeyError\u001b[0m: u'\\u3141'"
     ]
    },
    {
     "ename": "KeyError",
     "evalue": "u'\\u3141'",
     "output_type": "error",
     "traceback": [
      "\u001b[0;31m---------------------------------------------------------------------------\u001b[0m",
      "\u001b[0;31mKeyError\u001b[0m                                  Traceback (most recent call last)",
      "\u001b[0;32m_ctypes/callbacks.c\u001b[0m in \u001b[0;36m'calling callback function'\u001b[0;34m()\u001b[0m\n",
      "\u001b[0;32m/anaconda3/envs/PsychoPy/lib/python2.7/site-packages/pyglet/libs/darwin/cocoapy/runtime.pyc\u001b[0m in \u001b[0;36mobjc_method\u001b[0;34m(objc_self, objc_cmd, *args)\u001b[0m\n\u001b[1;32m   1119\u001b[0m                 \u001b[0mpy_self\u001b[0m\u001b[0;34m.\u001b[0m\u001b[0mobjc_cmd\u001b[0m \u001b[0;34m=\u001b[0m \u001b[0mobjc_cmd\u001b[0m\u001b[0;34m\u001b[0m\u001b[0m\n\u001b[1;32m   1120\u001b[0m                 \u001b[0margs\u001b[0m \u001b[0;34m=\u001b[0m \u001b[0mconvert_method_arguments\u001b[0m\u001b[0;34m(\u001b[0m\u001b[0mencoding\u001b[0m\u001b[0;34m,\u001b[0m \u001b[0margs\u001b[0m\u001b[0;34m)\u001b[0m\u001b[0;34m\u001b[0m\u001b[0m\n\u001b[0;32m-> 1121\u001b[0;31m                 \u001b[0mresult\u001b[0m \u001b[0;34m=\u001b[0m \u001b[0mf\u001b[0m\u001b[0;34m(\u001b[0m\u001b[0mpy_self\u001b[0m\u001b[0;34m,\u001b[0m \u001b[0;34m*\u001b[0m\u001b[0margs\u001b[0m\u001b[0;34m)\u001b[0m\u001b[0;34m\u001b[0m\u001b[0m\n\u001b[0m\u001b[1;32m   1122\u001b[0m                 \u001b[0;32mif\u001b[0m \u001b[0misinstance\u001b[0m\u001b[0;34m(\u001b[0m\u001b[0mresult\u001b[0m\u001b[0;34m,\u001b[0m \u001b[0mObjCClass\u001b[0m\u001b[0;34m)\u001b[0m\u001b[0;34m:\u001b[0m\u001b[0;34m\u001b[0m\u001b[0m\n\u001b[1;32m   1123\u001b[0m                     \u001b[0mresult\u001b[0m \u001b[0;34m=\u001b[0m \u001b[0mresult\u001b[0m\u001b[0;34m.\u001b[0m\u001b[0mptr\u001b[0m\u001b[0;34m.\u001b[0m\u001b[0mvalue\u001b[0m\u001b[0;34m\u001b[0m\u001b[0m\n",
      "\u001b[0;32m/anaconda3/envs/PsychoPy/lib/python2.7/site-packages/pyglet/window/cocoa/pyglet_view.pyc\u001b[0m in \u001b[0;36mpygletKeyUp_\u001b[0;34m(self, nsevent)\u001b[0m\n\u001b[1;32m    162\u001b[0m     \u001b[0;34m@\u001b[0m\u001b[0mPygletView\u001b[0m\u001b[0;34m.\u001b[0m\u001b[0mmethod\u001b[0m\u001b[0;34m(\u001b[0m\u001b[0;34m'v@'\u001b[0m\u001b[0;34m)\u001b[0m\u001b[0;34m\u001b[0m\u001b[0m\n\u001b[1;32m    163\u001b[0m     \u001b[0;32mdef\u001b[0m \u001b[0mpygletKeyUp_\u001b[0m\u001b[0;34m(\u001b[0m\u001b[0mself\u001b[0m\u001b[0;34m,\u001b[0m \u001b[0mnsevent\u001b[0m\u001b[0;34m)\u001b[0m\u001b[0;34m:\u001b[0m\u001b[0;34m\u001b[0m\u001b[0m\n\u001b[0;32m--> 164\u001b[0;31m         \u001b[0msymbol\u001b[0m \u001b[0;34m=\u001b[0m \u001b[0mgetSymbol\u001b[0m\u001b[0;34m(\u001b[0m\u001b[0mnsevent\u001b[0m\u001b[0;34m)\u001b[0m\u001b[0;34m\u001b[0m\u001b[0m\n\u001b[0m\u001b[1;32m    165\u001b[0m         \u001b[0mmodifiers\u001b[0m \u001b[0;34m=\u001b[0m \u001b[0mgetModifiers\u001b[0m\u001b[0;34m(\u001b[0m\u001b[0mnsevent\u001b[0m\u001b[0;34m)\u001b[0m\u001b[0;34m\u001b[0m\u001b[0m\n\u001b[1;32m    166\u001b[0m         \u001b[0mself\u001b[0m\u001b[0;34m.\u001b[0m\u001b[0m_window\u001b[0m\u001b[0;34m.\u001b[0m\u001b[0mdispatch_event\u001b[0m\u001b[0;34m(\u001b[0m\u001b[0;34m'on_key_release'\u001b[0m\u001b[0;34m,\u001b[0m \u001b[0msymbol\u001b[0m\u001b[0;34m,\u001b[0m \u001b[0mmodifiers\u001b[0m\u001b[0;34m)\u001b[0m\u001b[0;34m\u001b[0m\u001b[0m\n",
      "\u001b[0;32m/anaconda3/envs/PsychoPy/lib/python2.7/site-packages/pyglet/window/cocoa/pyglet_view.pyc\u001b[0m in \u001b[0;36mgetSymbol\u001b[0;34m(nsevent)\u001b[0m\n\u001b[1;32m     50\u001b[0m     \u001b[0mchars\u001b[0m \u001b[0;34m=\u001b[0m \u001b[0mcfstring_to_string\u001b[0m\u001b[0;34m(\u001b[0m\u001b[0mnsevent\u001b[0m\u001b[0;34m.\u001b[0m\u001b[0mcharactersIgnoringModifiers\u001b[0m\u001b[0;34m(\u001b[0m\u001b[0;34m)\u001b[0m\u001b[0;34m)\u001b[0m\u001b[0;34m\u001b[0m\u001b[0m\n\u001b[1;32m     51\u001b[0m     \u001b[0;32mif\u001b[0m \u001b[0mchars\u001b[0m\u001b[0;34m:\u001b[0m\u001b[0;34m\u001b[0m\u001b[0m\n\u001b[0;32m---> 52\u001b[0;31m         \u001b[0;32mreturn\u001b[0m \u001b[0mcharmap\u001b[0m\u001b[0;34m[\u001b[0m\u001b[0mchars\u001b[0m\u001b[0;34m[\u001b[0m\u001b[0;36m0\u001b[0m\u001b[0;34m]\u001b[0m\u001b[0;34m.\u001b[0m\u001b[0mupper\u001b[0m\u001b[0;34m(\u001b[0m\u001b[0;34m)\u001b[0m\u001b[0;34m]\u001b[0m\u001b[0;34m\u001b[0m\u001b[0m\n\u001b[0m\u001b[1;32m     53\u001b[0m \u001b[0;34m\u001b[0m\u001b[0m\n\u001b[1;32m     54\u001b[0m     \u001b[0;32mreturn\u001b[0m \u001b[0mNone\u001b[0m\u001b[0;34m\u001b[0m\u001b[0m\n",
      "\u001b[0;31mKeyError\u001b[0m: u'\\u3141'"
     ]
    },
    {
     "name": "stdout",
     "output_type": "stream",
     "text": [
      "8335.7263 \tWARNING \tMonitor specification not found. Creating a temporary one...\n"
     ]
    },
    {
     "ename": "SystemExit",
     "evalue": "0",
     "output_type": "error",
     "traceback": [
      "An exception has occurred, use %tb to see the full traceback.\n",
      "\u001b[0;31mSystemExit\u001b[0m\u001b[0;31m:\u001b[0m 0\n"
     ]
    }
   ],
   "source": [
    "import math, numpy, random #handy system and math functions\n",
    "from psychopy import core, event, visual, gui #these are the psychopy modules\n",
    "\n",
    "myWin = visual.Window(color='white', units='pix', size=[1000,1000], allowGUI=False, fullscr=False)#creates a window \n",
    "myClock = core.Clock() #this creates and starts a clock which we can later read\n",
    "\n",
    "grayRectangleLeft = visual.Rect(myWin, width=100, height=25, fillColor=[0,0,0], lineColor=None)\n",
    "grayRectangleRight = visual.Rect(myWin, width=100, height=25, fillColor=[0,0,0], lineColor=None)\n",
    "blackBar = visual.Rect(myWin, width=600, height=25, fillColor='black', lineColor=None)\n",
    "blackSquare = visual.Rect(myWin, width=300, height=400, pos=[-150,0],fillColor='black', lineColor=None)\n",
    "whiteSquare = visual.Rect(myWin, width=300, height=400, pos=[150,0],fillColor='white', lineColor='black')\n",
    "\n",
    "myScale = visual.RatingScale(myWin, pos=[0, -360], textSize=0.4, lineColor='black',  tickHeight=False, scale=None, choices=[-.28,-.24,-.20,-.16,-.12,-.08,-.04,0,.04,.08,.12,.16,.20,.24,.28], stretch =2.0, showAccept=False, singleClick=True)\n",
    "information=visual.TextStim(myWin, pos=[0,-385], text='', height=18, color='black') \n",
    "title=visual.TextStim(myWin, pos=[0,305], text='', height=24, color='green') \n",
    "\n",
    "#there are 4 possible states in terms of what is on screen\n",
    "def switchStatesAndDrawBackground(barHeight, showIllusion, illusionName):\n",
    "    \n",
    "        if showIllusion==True and illusionName==\"White\":\n",
    "            title.setText('White illusion')\n",
    "            for index in range(-6,7,2):\n",
    "                blackBar.setPos([0, barHeight * index])\n",
    "                blackBar.draw()\n",
    "        elif showIllusion==True and illusionName==\"SBC\":\n",
    "            title.setText('Simultaneous Brightness Contrast')\n",
    "            blackSquare.draw()\n",
    "            whiteSquare.draw()\n",
    "        elif showIllusion==False and illusionName==\"White\":\n",
    "            title.setText('White illusion - OFF')\n",
    "        elif showIllusion==False and illusionName==\"SBC\":\n",
    "            title.setText('Simultaneous Brightness Contrast - OFF')\n",
    "\n",
    "#six grey rectangles, three on the left three on the right \n",
    "def drawRectangles(barHeight):\n",
    "    \n",
    "    xPos = 120\n",
    "    \n",
    "    grayRectangleLeft.setPos([-xPos, barHeight * -3])\n",
    "    grayRectangleLeft.draw()\n",
    "    grayRectangleLeft.setPos([-xPos, barHeight * -1])\n",
    "    grayRectangleLeft.draw()\n",
    "    grayRectangleLeft.setPos([-xPos, barHeight * 1])\n",
    "    grayRectangleLeft.draw()\n",
    "    \n",
    "    grayRectangleRight.setPos([xPos, barHeight * -2])\n",
    "    grayRectangleRight.draw()\n",
    "    grayRectangleRight.setPos([xPos, barHeight * 0])\n",
    "    grayRectangleRight.draw()\n",
    "    grayRectangleRight.setPos([xPos, barHeight * 2])\n",
    "    grayRectangleRight.draw()\n",
    "\n",
    "# the main loop\n",
    "def mainLoop():\n",
    "    \n",
    "    finished = False\n",
    "    illusionName = \"White\"\n",
    "    showIllusion = True\n",
    "    barHeight =25\n",
    "    grayRectangleLeft.setHeight(barHeight)\n",
    "    grayRectangleRight.setHeight(barHeight)\n",
    "    blackBar.setHeight(barHeight)\n",
    "    \n",
    "    while not finished:\n",
    "        \n",
    "        switchStatesAndDrawBackground(barHeight, showIllusion, illusionName)\n",
    "        drawRectangles(barHeight)\n",
    "        \n",
    "        information.draw()\n",
    "        myScale.draw()\n",
    "        title.draw()\n",
    "        myWin.flip()\n",
    "        \n",
    "        if myScale.noResponse ==False: #some new value has been selected with the mouse\n",
    "            gray = myScale.getRating()\n",
    "            grayRectangleLeft.setFillColor(gray)\n",
    "            grayRectangleRight.setFillColor(-gray)\n",
    "            information.setText(str(gray))\n",
    "            myScale.reset()\n",
    "    \n",
    "        pressedList =event.getKeys(keyList=['escape','a','s']) #pressing ESC quits the program\n",
    "        if len(pressedList) >0:\n",
    "            if pressedList[0] =='escape':\n",
    "                finished =True\n",
    "            elif pressedList[0] =='a':\n",
    "                if illusionName =='White': illusionName='SBC'\n",
    "                elif illusionName =='SBC': illusionName='White'\n",
    "            elif pressedList[0] =='s':\n",
    "                showIllusion = not showIllusion\n",
    "            event.clearEvents()\n",
    "\n",
    "\n",
    "mainLoop() #enters the main loop\n",
    "myWin.close() #closes the window\n",
    "core.quit() #quits"
   ]
  },
  {
   "cell_type": "code",
   "execution_count": 5,
   "metadata": {
    "scrolled": false
   },
   "outputs": [
    {
     "data": {
      "text/plain": [
       "8"
      ]
     },
     "execution_count": 5,
     "metadata": {},
     "output_type": "execute_result"
    }
   ],
   "source": []
  },
  {
   "cell_type": "code",
   "execution_count": 8,
   "metadata": {},
   "outputs": [
    {
     "name": "stdout",
     "output_type": "stream",
     "text": [
      "9875.1843 \tWARNING \tMonitor specification not found. Creating a temporary one...\n"
     ]
    },
    {
     "ename": "SystemExit",
     "evalue": "0",
     "output_type": "error",
     "traceback": [
      "An exception has occurred, use %tb to see the full traceback.\n",
      "\u001b[0;31mSystemExit\u001b[0m\u001b[0;31m:\u001b[0m 0\n"
     ]
    }
   ],
   "source": [
    "import math, numpy, random #handy system and math functions\n",
    "from psychopy import core, event, visual, gui #these are the psychopy modules\n",
    "\n",
    "YKWin = visual.Window(color='white', units='pix', size=[1000,1000], allowGUI=False, fullscr=False)#creates a window \n",
    "\n",
    "#object+function+all\n",
    "\n",
    "YKWin.flip()\n",
    "core.wait(2)\n",
    "\n",
    "YKWin.close() #closes the window\n",
    "core.quit()\n"
   ]
  },
  {
   "cell_type": "code",
   "execution_count": null,
   "metadata": {},
   "outputs": [],
   "source": []
  }
 ],
 "metadata": {
  "kernelspec": {
   "display_name": "Python 3",
   "language": "python",
   "name": "python3"
  },
  "language_info": {
   "codemirror_mode": {
    "name": "ipython",
    "version": 3
   },
   "file_extension": ".py",
   "mimetype": "text/x-python",
   "name": "python",
   "nbconvert_exporter": "python",
   "pygments_lexer": "ipython3",
   "version": "3.6.8"
  }
 },
 "nbformat": 4,
 "nbformat_minor": 2
}
