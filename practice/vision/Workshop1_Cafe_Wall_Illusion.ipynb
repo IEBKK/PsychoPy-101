{
 "cells": [
  {
   "cell_type": "markdown",
   "metadata": {},
   "source": [
    "### Py-Emotion 2회차\n",
    "### PsychoPy 101 Workshop\n",
    "### 2018. 7. 3. \n",
    "### Yoon Kyung Lee"
   ]
  },
  {
   "cell_type": "markdown",
   "metadata": {},
   "source": [
    "싸이코파이 필수 코드 + 화면 생성\n",
    "\n",
    "```python \n",
    "#라이브러리와 모듈 불러오기\n",
    "import math, numpy, random #handy system and math functions\n",
    "from psychopy import core, event, visual, gui #these are the psychopy modules\n",
    "\n",
    "#기본 화면 정의 \n",
    "\n",
    "myWin = visual.Window(color='white', units='pix', size=[1000,1000], allowGUI=False, fullscr=False)#creates a window \n",
    "\n",
    "#시각 기록 장치 (나중에 쓸 예정)\n",
    "myClock = core.Clock() #this creates and starts a clock which we can later read\n",
    "```"
   ]
  },
  {
   "cell_type": "markdown",
   "metadata": {},
   "source": [
    "오브젝트 정의 \n",
    "\n",
    "```python\n",
    "#검정 직사각형 \n",
    "blackBar = visual.Rect(myWin, width=50, height=10, fillColor='black', lineColor=None)\n",
    "\n",
    "#틈새 선\n",
    "mortar = visual.Rect(myWin, width=50, height=2, fillColor=[0.2,0.2,0.2], lineColor=None)\n",
    "\n",
    "```\n",
    "\n",
    "mortar의 fillcolor는 밝기 변화를 주기에 편하게 하기위해 RGB값으로 표기"
   ]
  },
  {
   "cell_type": "markdown",
   "metadata": {},
   "source": [
    "#### 1. Draw the columns of black rectangles\n",
    "검정 직사각형으로 이루어진 열 생성"
   ]
  },
  {
   "cell_type": "markdown",
   "metadata": {},
   "source": [
    "``` python\n",
    "def drawColumns(shift, barHeight, barWidth):\n",
    "```\n",
    "\n",
    "within the y-loop we do not want all the bars aligned, we want some of them displayed to the right. \n",
    "\n",
    "We display them by adding something to the x-position\n",
    "(startX, endX+1, barHeight)\n",
    "\n",
    "!! We need to apply 'shift' only to every other object as we move along the y-axis (along a column) (열 단위로 움직임, 낱개로 움직이는게 아니고!) To do so, I set a variable oddRow to False to begin with....\n",
    "Only when this variable is **True** the shift is added to the x-position. \n",
    "\n",
    "* _oddRows_가 False일때 짝수 행에 있는 직사각형만 움직임"
   ]
  },
  {
   "cell_type": "markdown",
   "metadata": {},
   "source": [
    "#### 2. Draw the mortar lines\n",
    "틈새 선 생성"
   ]
  },
  {
   "cell_type": "markdown",
   "metadata": {},
   "source": [
    "``` python\n",
    "def drawMortar(barHeight):\n",
    "```\n"
   ]
  },
  {
   "cell_type": "markdown",
   "metadata": {},
   "source": [
    "Now we have a black and white pattern, created by the function drawColumns() specialized for that job.\n",
    "\n",
    "On top of this pattern we want to draw the grey mortar lines. This is done by another, shorter, function. \n",
    "\n",
    "``` python\n",
    "def drawMortar(barHeight):\n",
    "    startY = -barHeight*5 + barHeight/2\n",
    "    endY = barHeight*5 - barHeight/2\n",
    "    for y in range(startY,endY+1, barHeight):\n",
    "        mortar.setPos([0,y])\n",
    "        mortar.draw()\n",
    "        \n",
    "```\n"
   ]
  },
  {
   "cell_type": "markdown",
   "metadata": {},
   "source": [
    "As the mortar line is a **long horizontal line** we only need to move it along the **y-axis**.\n",
    "\n",
    "No need to change the x-position because that can stay at 0 (_center_). This means that the lines are centered horizontally. (즉, y좌표에 해당하는 위치만 변경하면 됨.)\n",
    "\n",
    "For the y-position the loop is similar to that which we have seen for the blackBar objects. _The difference is that we want the mortar lines **above and below and not on top of the black object**_, so we have to shift the first up by half the bar height and the last down by the half the bar height. Therefore we add an extra half a bar to _startY_ and we take that away from _endY_\n",
    "(bar의 1/2값에 해당하는 위치까지만 움직임. 첫째 줄의 경계선의 반에 해당하는 곳까지만 움직이면 되니 (즉, 모두 이탈하면 안되니까) 끝에 있는 경계선(_endY_)은 제외. \n",
    "\n",
    "Note also that we multiply the start and end values by 5 and not 4. That is because for 9 rows of black bars we need 10 mortar lines. \n",
    "\n",
    "\n"
   ]
  },
  {
   "cell_type": "markdown",
   "metadata": {},
   "source": [
    "#### 3. Event.Keys()"
   ]
  },
  {
   "cell_type": "markdown",
   "metadata": {},
   "source": [
    "After these two functions that take care of the drawing we have a mainLoop function. Within this main loop, as in previous programs, we check whether a key has been pressed. \n",
    "\n",
    "The ESC key will quit the program. In addition to ESC we will also use another key to switch between the Cafe wall and the Munsterberg version of the illusion. \n",
    "\n",
    "입력가능한 키들 중에서 'esc'에 'a'를 더함. **(다음 시행 또는 옵션 선택할 수 있는 키 역할을 함)**\n",
    "\n",
    "```python\n",
    "\n",
    "pressedList = event.getKeys(keyList = ['escape', 'a'])\n",
    "if len(pressedList) > 0:\n",
    "→ if pressedList[0] == 'escape': #pressing ESC quits the program → → finished = True\n",
    "→ elif pressedList[0] == 'a':\n",
    "→ → if illusionName == 'Cafe wall illusion':\n",
    "→ → → illusionName = 'Munsterberg illusion'\n",
    "→ → → mortar.setFillColor('black')\n",
    "→ → elif illusionName == 'Munsterberg illusion':\n",
    "→ → → illusionName = 'Cafe wall illusion'\n",
    "→ → → mortar.setFillColor('grey')\n",
    "```"
   ]
  },
  {
   "cell_type": "markdown",
   "metadata": {},
   "source": [
    "### 전체 코드 "
   ]
  },
  {
   "cell_type": "code",
   "execution_count": null,
   "metadata": {},
   "outputs": [],
   "source": [
    "import math, numpy, random #handy system and math functions\n",
    "from psychopy import core, event, visual, gui #these are the psychopy modules\n",
    "\n",
    "myWin = visual.Window(color='white', units='pix', size=[1000,1000], allowGUI=False, fullscr=False)#creates a window \n",
    "myClock = core.Clock() #this creates and starts a clock which we can later read\n",
    "\n",
    "blackBar = visual.Rect(myWin, width=50, height=10, fillColor='black', lineColor=None)\n",
    "mortar = visual.Rect(myWin, width=50, height=2, fillColor=[0.2,0.2,0.2], lineColor=None)\n",
    "\n",
    "myScale = visual.RatingScale(myWin, pos=[0, -400], low=0, high=50,  textSize=0.5, lineColor='black',  tickHeight=False, scale=None, showAccept=False, singleClick=True)\n",
    "information=visual.TextStim(myWin, pos=[0,-430], text='', height=18, color='black') \n",
    "title=visual.TextStim(myWin, pos=[0,305], text='Cafe Wall Illusion', height=24, color='green') \n",
    "\n",
    "#black rectangles drawn in columns, shifting every other to the right by shift \n",
    "def drawColumns(shift, barHeight, barWidth): \n",
    "\n",
    "    startX = - barWidth * 6\n",
    "    endX =  barWidth * 6\n",
    "    startY = - barHeight * 4\n",
    "    endY =  barHeight * 4\n",
    "    for x in range(startX, endX+1, barWidth*2):\n",
    "        oddRow = False\n",
    "        for y in range(startY, endY+1, barHeight):\n",
    "            if oddRow == True:\n",
    "              blackBar.setPos([x+shift,y])\n",
    "              oddRow =False\n",
    "            else:\n",
    "              blackBar.setPos([x,y])\n",
    "              oddRow=True\n",
    "            blackBar.draw()\n",
    "\n",
    "#draw the mortar lines\n",
    "def drawMortar(barHeight):\n",
    "    \n",
    "    startY = - barHeight * 5 + barHeight/2\n",
    "    endY =  barHeight * 5 -barHeight/2\n",
    "    for y in range(startY, endY+1, barHeight):\n",
    "        mortar.setPos([0,y])\n",
    "        mortar.draw()\n",
    "        \n",
    "# the main loop\n",
    "def mainLoop():\n",
    "    \n",
    "    finished = False\n",
    "    illusionName = 'Cafe Wall illusion'\n",
    "    barHeight =40\n",
    "    barWidth =50\n",
    "    shift = barWidth /2\n",
    "    blackBar.setHeight(barHeight)\n",
    "    blackBar.setWidth(barWidth)\n",
    "    mortar.setWidth(barWidth*14)\n",
    "    \n",
    "    while not finished:\n",
    "        \n",
    "        drawColumns(shift, barHeight, barWidth)\n",
    "        drawMortar(barHeight)\n",
    "        title.setText(illusionName)\n",
    "        information.draw()\n",
    "        myScale.draw()\n",
    "        title.draw()\n",
    "        myWin.flip()\n",
    "        \n",
    "        if myScale.noResponse ==False: #some new value has been selected with the mouse\n",
    "            shift = myScale.getRating()\n",
    "            information.setText(str(shift))\n",
    "            myScale.reset()\n",
    "    \n",
    "        pressedList =event.getKeys(keyList=['escape','a']) #pressing ESC quits the program\n",
    "        if len(pressedList) >0:\n",
    "            if pressedList[0] =='escape':\n",
    "                finished =True\n",
    "            elif pressedList[0] =='a':\n",
    "                if illusionName == 'Cafe Wall illusion': \n",
    "                  illusionName='Munsterberg illusion'\n",
    "                  mortar.setFillColor('black')\n",
    "                elif illusionName == 'Munsterberg illusion': \n",
    "                  illusionName='Cafe Wall illusion'\n",
    "                  mortar.setFillColor('grey')\n",
    "            event.clearEvents()\n",
    "\n",
    "mainLoop() #enters the main loop\n",
    "myWin.close() #closes the window\n",
    "core.quit() #quits"
   ]
  },
  {
   "cell_type": "code",
   "execution_count": null,
   "metadata": {},
   "outputs": [],
   "source": []
  }
 ],
 "metadata": {
  "kernelspec": {
   "display_name": "Python 3",
   "language": "python",
   "name": "python3"
  },
  "language_info": {
   "codemirror_mode": {
    "name": "ipython",
    "version": 3
   },
   "file_extension": ".py",
   "mimetype": "text/x-python",
   "name": "python",
   "nbconvert_exporter": "python",
   "pygments_lexer": "ipython3",
   "version": "3.6.8"
  }
 },
 "nbformat": 4,
 "nbformat_minor": 2
}
