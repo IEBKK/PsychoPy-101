{
 "cells": [
  {
   "cell_type": "markdown",
   "metadata": {},
   "source": [
    "### PsychoPy로 실험만들기 [기초]\n",
    "##### Korean Translation & Modification by Yoon Kyung Lee <br>\n",
    "##### Original Source : <br>\n",
    "\n",
    "Part of the introductory series to using Python for Vision Research brought to you by the GestaltReVision group (KU Leuven, Belgium).\n",
    "\n",
    "In this part we will capitalize on the basics you learned in Part 1 to build a real working experiment.\n",
    "\n",
    "- Authors: Maarten Demeyer, Jonas Kubilius <br>\n",
    "- Year: 2014 <br>\n",
    "- Copyright: Public Domain as in CC0 (images used in this part are thanks to Unsplash but are in Public Domain too) <br>\n"
   ]
  },
  {
   "cell_type": "markdown",
   "metadata": {},
   "source": [
    "### Contents\n",
    "\n",
    "- 소개\n",
    "- 준비물\n",
    "- Input dialog\n",
    "- 윈도우(Window)\n",
    "- 자극(Stimuli)\n",
    "- 이미지 (Image)\n",
    "- 기하학적 모양들 (Geometric shapes)\n",
    "- 문자형 자료 (Text)\n",
    "- 자극의 속성 업데이트하기 (Updating-stimulus-properties)\n",
    "- 키보드 입력 (Keyboard input)\n",
    "- 타이밍 (Timing)\n",
    "- 현재 시각 기반 타이밍 (Clock-based timing)\n",
    "- 프레임 기반 타이밍 (Frame-based timing)\n",
    "- 무얼 사용해야 할까? (Which one to use?)\n",
    "- 실험 실행 (Running experiment)\n",
    "- 실험 진행 (During the trial)\n",
    "- 참여자로부터 입력값 받기 및 반응 시간 (Get participant input and response time)\n",
    "- Draw bubbles\n",
    "- 실험 종료 (End of trial)\n",
    "- 시행 반복하기 (Trial loop)\n",
    "- Code advancement: Final"
   ]
  },
  {
   "cell_type": "code",
   "execution_count": null,
   "metadata": {},
   "outputs": [],
   "source": []
  }
 ],
 "metadata": {
  "kernelspec": {
   "display_name": "Python 3",
   "language": "python",
   "name": "python3"
  },
  "language_info": {
   "codemirror_mode": {
    "name": "ipython",
    "version": 3
   },
   "file_extension": ".py",
   "mimetype": "text/x-python",
   "name": "python",
   "nbconvert_exporter": "python",
   "pygments_lexer": "ipython3",
   "version": "3.6.8"
  }
 },
 "nbformat": 4,
 "nbformat_minor": 2
}
